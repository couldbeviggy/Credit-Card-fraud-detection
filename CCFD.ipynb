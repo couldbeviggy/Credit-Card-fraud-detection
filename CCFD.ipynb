{
 "cells": [
  {
   "cell_type": "markdown",
   "metadata": {},
   "source": [
    "## CREDIT CARD FRAUD DETECTION"
   ]
  },
  {
   "cell_type": "markdown",
   "metadata": {},
   "source": [
    " "
   ]
  },
  {
   "cell_type": "markdown",
   "metadata": {},
   "source": [
    "<b>Importing the necessary libraries!"
   ]
  },
  {
   "cell_type": "code",
   "execution_count": 1,
   "metadata": {},
   "outputs": [],
   "source": [
    "import pandas as pd\n",
    "import numpy as np\n",
    "import matplotlib.pyplot as plt\n",
    "\n",
    "from sklearn.linear_model import LogisticRegressionCV\n",
    "from sklearn.tree import DecisionTreeClassifier\n",
    "from sklearn.ensemble import RandomForestClassifier\n",
    "\n",
    "from xgboost import XGBClassifier\n",
    "\n",
    "from imblearn.over_sampling import SMOTE, SMOTENC, RandomOverSampler\n",
    "from imblearn.under_sampling import RandomUnderSampler\n",
    "\n",
    "from sklearn.cluster import KMeans\n",
    "from sklearn.preprocessing import minmax_scale\n",
    "\n",
    "from sklearn.metrics import silhouette_score, classification_report, accuracy_score, roc_auc_score\n",
    "\n",
    "import warnings\n",
    "warnings.filterwarnings('ignore')\n",
    "\n",
    "rand_state = 100"
   ]
  },
  {
   "cell_type": "markdown",
   "metadata": {},
   "source": [
    " "
   ]
  },
  {
   "cell_type": "markdown",
   "metadata": {},
   "source": [
    "    Import the data!"
   ]
  },
  {
   "cell_type": "code",
   "execution_count": 2,
   "metadata": {},
   "outputs": [
    {
     "name": "stdout",
     "output_type": "stream",
     "text": [
      "(284807, 31) \n",
      "\n"
     ]
    },
    {
     "data": {
      "text/html": [
       "<div>\n",
       "<style scoped>\n",
       "    .dataframe tbody tr th:only-of-type {\n",
       "        vertical-align: middle;\n",
       "    }\n",
       "\n",
       "    .dataframe tbody tr th {\n",
       "        vertical-align: top;\n",
       "    }\n",
       "\n",
       "    .dataframe thead th {\n",
       "        text-align: right;\n",
       "    }\n",
       "</style>\n",
       "<table border=\"1\" class=\"dataframe\">\n",
       "  <thead>\n",
       "    <tr style=\"text-align: right;\">\n",
       "      <th></th>\n",
       "      <th>Time</th>\n",
       "      <th>V1</th>\n",
       "      <th>V2</th>\n",
       "      <th>V3</th>\n",
       "      <th>V4</th>\n",
       "      <th>V5</th>\n",
       "      <th>V6</th>\n",
       "      <th>V7</th>\n",
       "      <th>V8</th>\n",
       "      <th>V9</th>\n",
       "      <th>...</th>\n",
       "      <th>V21</th>\n",
       "      <th>V22</th>\n",
       "      <th>V23</th>\n",
       "      <th>V24</th>\n",
       "      <th>V25</th>\n",
       "      <th>V26</th>\n",
       "      <th>V27</th>\n",
       "      <th>V28</th>\n",
       "      <th>Amount</th>\n",
       "      <th>Class</th>\n",
       "    </tr>\n",
       "  </thead>\n",
       "  <tbody>\n",
       "    <tr>\n",
       "      <td>0</td>\n",
       "      <td>0.0</td>\n",
       "      <td>-1.359807</td>\n",
       "      <td>-0.072781</td>\n",
       "      <td>2.536347</td>\n",
       "      <td>1.378155</td>\n",
       "      <td>-0.338321</td>\n",
       "      <td>0.462388</td>\n",
       "      <td>0.239599</td>\n",
       "      <td>0.098698</td>\n",
       "      <td>0.363787</td>\n",
       "      <td>...</td>\n",
       "      <td>-0.018307</td>\n",
       "      <td>0.277838</td>\n",
       "      <td>-0.110474</td>\n",
       "      <td>0.066928</td>\n",
       "      <td>0.128539</td>\n",
       "      <td>-0.189115</td>\n",
       "      <td>0.133558</td>\n",
       "      <td>-0.021053</td>\n",
       "      <td>149.62</td>\n",
       "      <td>0</td>\n",
       "    </tr>\n",
       "    <tr>\n",
       "      <td>1</td>\n",
       "      <td>0.0</td>\n",
       "      <td>1.191857</td>\n",
       "      <td>0.266151</td>\n",
       "      <td>0.166480</td>\n",
       "      <td>0.448154</td>\n",
       "      <td>0.060018</td>\n",
       "      <td>-0.082361</td>\n",
       "      <td>-0.078803</td>\n",
       "      <td>0.085102</td>\n",
       "      <td>-0.255425</td>\n",
       "      <td>...</td>\n",
       "      <td>-0.225775</td>\n",
       "      <td>-0.638672</td>\n",
       "      <td>0.101288</td>\n",
       "      <td>-0.339846</td>\n",
       "      <td>0.167170</td>\n",
       "      <td>0.125895</td>\n",
       "      <td>-0.008983</td>\n",
       "      <td>0.014724</td>\n",
       "      <td>2.69</td>\n",
       "      <td>0</td>\n",
       "    </tr>\n",
       "    <tr>\n",
       "      <td>2</td>\n",
       "      <td>1.0</td>\n",
       "      <td>-1.358354</td>\n",
       "      <td>-1.340163</td>\n",
       "      <td>1.773209</td>\n",
       "      <td>0.379780</td>\n",
       "      <td>-0.503198</td>\n",
       "      <td>1.800499</td>\n",
       "      <td>0.791461</td>\n",
       "      <td>0.247676</td>\n",
       "      <td>-1.514654</td>\n",
       "      <td>...</td>\n",
       "      <td>0.247998</td>\n",
       "      <td>0.771679</td>\n",
       "      <td>0.909412</td>\n",
       "      <td>-0.689281</td>\n",
       "      <td>-0.327642</td>\n",
       "      <td>-0.139097</td>\n",
       "      <td>-0.055353</td>\n",
       "      <td>-0.059752</td>\n",
       "      <td>378.66</td>\n",
       "      <td>0</td>\n",
       "    </tr>\n",
       "    <tr>\n",
       "      <td>3</td>\n",
       "      <td>1.0</td>\n",
       "      <td>-0.966272</td>\n",
       "      <td>-0.185226</td>\n",
       "      <td>1.792993</td>\n",
       "      <td>-0.863291</td>\n",
       "      <td>-0.010309</td>\n",
       "      <td>1.247203</td>\n",
       "      <td>0.237609</td>\n",
       "      <td>0.377436</td>\n",
       "      <td>-1.387024</td>\n",
       "      <td>...</td>\n",
       "      <td>-0.108300</td>\n",
       "      <td>0.005274</td>\n",
       "      <td>-0.190321</td>\n",
       "      <td>-1.175575</td>\n",
       "      <td>0.647376</td>\n",
       "      <td>-0.221929</td>\n",
       "      <td>0.062723</td>\n",
       "      <td>0.061458</td>\n",
       "      <td>123.50</td>\n",
       "      <td>0</td>\n",
       "    </tr>\n",
       "    <tr>\n",
       "      <td>4</td>\n",
       "      <td>2.0</td>\n",
       "      <td>-1.158233</td>\n",
       "      <td>0.877737</td>\n",
       "      <td>1.548718</td>\n",
       "      <td>0.403034</td>\n",
       "      <td>-0.407193</td>\n",
       "      <td>0.095921</td>\n",
       "      <td>0.592941</td>\n",
       "      <td>-0.270533</td>\n",
       "      <td>0.817739</td>\n",
       "      <td>...</td>\n",
       "      <td>-0.009431</td>\n",
       "      <td>0.798278</td>\n",
       "      <td>-0.137458</td>\n",
       "      <td>0.141267</td>\n",
       "      <td>-0.206010</td>\n",
       "      <td>0.502292</td>\n",
       "      <td>0.219422</td>\n",
       "      <td>0.215153</td>\n",
       "      <td>69.99</td>\n",
       "      <td>0</td>\n",
       "    </tr>\n",
       "  </tbody>\n",
       "</table>\n",
       "<p>5 rows × 31 columns</p>\n",
       "</div>"
      ],
      "text/plain": [
       "   Time        V1        V2        V3        V4        V5        V6        V7  \\\n",
       "0   0.0 -1.359807 -0.072781  2.536347  1.378155 -0.338321  0.462388  0.239599   \n",
       "1   0.0  1.191857  0.266151  0.166480  0.448154  0.060018 -0.082361 -0.078803   \n",
       "2   1.0 -1.358354 -1.340163  1.773209  0.379780 -0.503198  1.800499  0.791461   \n",
       "3   1.0 -0.966272 -0.185226  1.792993 -0.863291 -0.010309  1.247203  0.237609   \n",
       "4   2.0 -1.158233  0.877737  1.548718  0.403034 -0.407193  0.095921  0.592941   \n",
       "\n",
       "         V8        V9  ...       V21       V22       V23       V24       V25  \\\n",
       "0  0.098698  0.363787  ... -0.018307  0.277838 -0.110474  0.066928  0.128539   \n",
       "1  0.085102 -0.255425  ... -0.225775 -0.638672  0.101288 -0.339846  0.167170   \n",
       "2  0.247676 -1.514654  ...  0.247998  0.771679  0.909412 -0.689281 -0.327642   \n",
       "3  0.377436 -1.387024  ... -0.108300  0.005274 -0.190321 -1.175575  0.647376   \n",
       "4 -0.270533  0.817739  ... -0.009431  0.798278 -0.137458  0.141267 -0.206010   \n",
       "\n",
       "        V26       V27       V28  Amount  Class  \n",
       "0 -0.189115  0.133558 -0.021053  149.62      0  \n",
       "1  0.125895 -0.008983  0.014724    2.69      0  \n",
       "2 -0.139097 -0.055353 -0.059752  378.66      0  \n",
       "3 -0.221929  0.062723  0.061458  123.50      0  \n",
       "4  0.502292  0.219422  0.215153   69.99      0  \n",
       "\n",
       "[5 rows x 31 columns]"
      ]
     },
     "execution_count": 2,
     "metadata": {},
     "output_type": "execute_result"
    }
   ],
   "source": [
    "data = pd.read_csv('creditcard.csv')\n",
    "\n",
    "print(data.shape, '\\n')\n",
    "\n",
    "data.head()"
   ]
  },
  {
   "cell_type": "markdown",
   "metadata": {},
   "source": [
    " "
   ]
  },
  {
   "cell_type": "markdown",
   "metadata": {},
   "source": [
    " "
   ]
  },
  {
   "cell_type": "markdown",
   "metadata": {},
   "source": [
    "<b>    Exploratory Data Analysis!"
   ]
  },
  {
   "cell_type": "code",
   "execution_count": 3,
   "metadata": {},
   "outputs": [
    {
     "data": {
      "text/html": [
       "<div>\n",
       "<style scoped>\n",
       "    .dataframe tbody tr th:only-of-type {\n",
       "        vertical-align: middle;\n",
       "    }\n",
       "\n",
       "    .dataframe tbody tr th {\n",
       "        vertical-align: top;\n",
       "    }\n",
       "\n",
       "    .dataframe thead th {\n",
       "        text-align: right;\n",
       "    }\n",
       "</style>\n",
       "<table border=\"1\" class=\"dataframe\">\n",
       "  <thead>\n",
       "    <tr style=\"text-align: right;\">\n",
       "      <th></th>\n",
       "      <th>Time</th>\n",
       "      <th>V1</th>\n",
       "      <th>V2</th>\n",
       "      <th>V3</th>\n",
       "      <th>V4</th>\n",
       "      <th>V5</th>\n",
       "      <th>V6</th>\n",
       "      <th>V7</th>\n",
       "      <th>V8</th>\n",
       "      <th>V9</th>\n",
       "      <th>...</th>\n",
       "      <th>V21</th>\n",
       "      <th>V22</th>\n",
       "      <th>V23</th>\n",
       "      <th>V24</th>\n",
       "      <th>V25</th>\n",
       "      <th>V26</th>\n",
       "      <th>V27</th>\n",
       "      <th>V28</th>\n",
       "      <th>Amount</th>\n",
       "      <th>Class</th>\n",
       "    </tr>\n",
       "  </thead>\n",
       "  <tbody>\n",
       "    <tr>\n",
       "      <td>count</td>\n",
       "      <td>284807.000000</td>\n",
       "      <td>2.848070e+05</td>\n",
       "      <td>2.848070e+05</td>\n",
       "      <td>2.848070e+05</td>\n",
       "      <td>2.848070e+05</td>\n",
       "      <td>2.848070e+05</td>\n",
       "      <td>2.848070e+05</td>\n",
       "      <td>2.848070e+05</td>\n",
       "      <td>2.848070e+05</td>\n",
       "      <td>2.848070e+05</td>\n",
       "      <td>...</td>\n",
       "      <td>2.848070e+05</td>\n",
       "      <td>2.848070e+05</td>\n",
       "      <td>2.848070e+05</td>\n",
       "      <td>2.848070e+05</td>\n",
       "      <td>2.848070e+05</td>\n",
       "      <td>2.848070e+05</td>\n",
       "      <td>2.848070e+05</td>\n",
       "      <td>2.848070e+05</td>\n",
       "      <td>284807.000000</td>\n",
       "      <td>284807.000000</td>\n",
       "    </tr>\n",
       "    <tr>\n",
       "      <td>mean</td>\n",
       "      <td>94813.859575</td>\n",
       "      <td>3.919560e-15</td>\n",
       "      <td>5.688174e-16</td>\n",
       "      <td>-8.769071e-15</td>\n",
       "      <td>2.782312e-15</td>\n",
       "      <td>-1.552563e-15</td>\n",
       "      <td>2.010663e-15</td>\n",
       "      <td>-1.694249e-15</td>\n",
       "      <td>-1.927028e-16</td>\n",
       "      <td>-3.137024e-15</td>\n",
       "      <td>...</td>\n",
       "      <td>1.537294e-16</td>\n",
       "      <td>7.959909e-16</td>\n",
       "      <td>5.367590e-16</td>\n",
       "      <td>4.458112e-15</td>\n",
       "      <td>1.453003e-15</td>\n",
       "      <td>1.699104e-15</td>\n",
       "      <td>-3.660161e-16</td>\n",
       "      <td>-1.206049e-16</td>\n",
       "      <td>88.349619</td>\n",
       "      <td>0.001727</td>\n",
       "    </tr>\n",
       "    <tr>\n",
       "      <td>std</td>\n",
       "      <td>47488.145955</td>\n",
       "      <td>1.958696e+00</td>\n",
       "      <td>1.651309e+00</td>\n",
       "      <td>1.516255e+00</td>\n",
       "      <td>1.415869e+00</td>\n",
       "      <td>1.380247e+00</td>\n",
       "      <td>1.332271e+00</td>\n",
       "      <td>1.237094e+00</td>\n",
       "      <td>1.194353e+00</td>\n",
       "      <td>1.098632e+00</td>\n",
       "      <td>...</td>\n",
       "      <td>7.345240e-01</td>\n",
       "      <td>7.257016e-01</td>\n",
       "      <td>6.244603e-01</td>\n",
       "      <td>6.056471e-01</td>\n",
       "      <td>5.212781e-01</td>\n",
       "      <td>4.822270e-01</td>\n",
       "      <td>4.036325e-01</td>\n",
       "      <td>3.300833e-01</td>\n",
       "      <td>250.120109</td>\n",
       "      <td>0.041527</td>\n",
       "    </tr>\n",
       "    <tr>\n",
       "      <td>min</td>\n",
       "      <td>0.000000</td>\n",
       "      <td>-5.640751e+01</td>\n",
       "      <td>-7.271573e+01</td>\n",
       "      <td>-4.832559e+01</td>\n",
       "      <td>-5.683171e+00</td>\n",
       "      <td>-1.137433e+02</td>\n",
       "      <td>-2.616051e+01</td>\n",
       "      <td>-4.355724e+01</td>\n",
       "      <td>-7.321672e+01</td>\n",
       "      <td>-1.343407e+01</td>\n",
       "      <td>...</td>\n",
       "      <td>-3.483038e+01</td>\n",
       "      <td>-1.093314e+01</td>\n",
       "      <td>-4.480774e+01</td>\n",
       "      <td>-2.836627e+00</td>\n",
       "      <td>-1.029540e+01</td>\n",
       "      <td>-2.604551e+00</td>\n",
       "      <td>-2.256568e+01</td>\n",
       "      <td>-1.543008e+01</td>\n",
       "      <td>0.000000</td>\n",
       "      <td>0.000000</td>\n",
       "    </tr>\n",
       "    <tr>\n",
       "      <td>25%</td>\n",
       "      <td>54201.500000</td>\n",
       "      <td>-9.203734e-01</td>\n",
       "      <td>-5.985499e-01</td>\n",
       "      <td>-8.903648e-01</td>\n",
       "      <td>-8.486401e-01</td>\n",
       "      <td>-6.915971e-01</td>\n",
       "      <td>-7.682956e-01</td>\n",
       "      <td>-5.540759e-01</td>\n",
       "      <td>-2.086297e-01</td>\n",
       "      <td>-6.430976e-01</td>\n",
       "      <td>...</td>\n",
       "      <td>-2.283949e-01</td>\n",
       "      <td>-5.423504e-01</td>\n",
       "      <td>-1.618463e-01</td>\n",
       "      <td>-3.545861e-01</td>\n",
       "      <td>-3.171451e-01</td>\n",
       "      <td>-3.269839e-01</td>\n",
       "      <td>-7.083953e-02</td>\n",
       "      <td>-5.295979e-02</td>\n",
       "      <td>5.600000</td>\n",
       "      <td>0.000000</td>\n",
       "    </tr>\n",
       "    <tr>\n",
       "      <td>50%</td>\n",
       "      <td>84692.000000</td>\n",
       "      <td>1.810880e-02</td>\n",
       "      <td>6.548556e-02</td>\n",
       "      <td>1.798463e-01</td>\n",
       "      <td>-1.984653e-02</td>\n",
       "      <td>-5.433583e-02</td>\n",
       "      <td>-2.741871e-01</td>\n",
       "      <td>4.010308e-02</td>\n",
       "      <td>2.235804e-02</td>\n",
       "      <td>-5.142873e-02</td>\n",
       "      <td>...</td>\n",
       "      <td>-2.945017e-02</td>\n",
       "      <td>6.781943e-03</td>\n",
       "      <td>-1.119293e-02</td>\n",
       "      <td>4.097606e-02</td>\n",
       "      <td>1.659350e-02</td>\n",
       "      <td>-5.213911e-02</td>\n",
       "      <td>1.342146e-03</td>\n",
       "      <td>1.124383e-02</td>\n",
       "      <td>22.000000</td>\n",
       "      <td>0.000000</td>\n",
       "    </tr>\n",
       "    <tr>\n",
       "      <td>75%</td>\n",
       "      <td>139320.500000</td>\n",
       "      <td>1.315642e+00</td>\n",
       "      <td>8.037239e-01</td>\n",
       "      <td>1.027196e+00</td>\n",
       "      <td>7.433413e-01</td>\n",
       "      <td>6.119264e-01</td>\n",
       "      <td>3.985649e-01</td>\n",
       "      <td>5.704361e-01</td>\n",
       "      <td>3.273459e-01</td>\n",
       "      <td>5.971390e-01</td>\n",
       "      <td>...</td>\n",
       "      <td>1.863772e-01</td>\n",
       "      <td>5.285536e-01</td>\n",
       "      <td>1.476421e-01</td>\n",
       "      <td>4.395266e-01</td>\n",
       "      <td>3.507156e-01</td>\n",
       "      <td>2.409522e-01</td>\n",
       "      <td>9.104512e-02</td>\n",
       "      <td>7.827995e-02</td>\n",
       "      <td>77.165000</td>\n",
       "      <td>0.000000</td>\n",
       "    </tr>\n",
       "    <tr>\n",
       "      <td>max</td>\n",
       "      <td>172792.000000</td>\n",
       "      <td>2.454930e+00</td>\n",
       "      <td>2.205773e+01</td>\n",
       "      <td>9.382558e+00</td>\n",
       "      <td>1.687534e+01</td>\n",
       "      <td>3.480167e+01</td>\n",
       "      <td>7.330163e+01</td>\n",
       "      <td>1.205895e+02</td>\n",
       "      <td>2.000721e+01</td>\n",
       "      <td>1.559499e+01</td>\n",
       "      <td>...</td>\n",
       "      <td>2.720284e+01</td>\n",
       "      <td>1.050309e+01</td>\n",
       "      <td>2.252841e+01</td>\n",
       "      <td>4.584549e+00</td>\n",
       "      <td>7.519589e+00</td>\n",
       "      <td>3.517346e+00</td>\n",
       "      <td>3.161220e+01</td>\n",
       "      <td>3.384781e+01</td>\n",
       "      <td>25691.160000</td>\n",
       "      <td>1.000000</td>\n",
       "    </tr>\n",
       "  </tbody>\n",
       "</table>\n",
       "<p>8 rows × 31 columns</p>\n",
       "</div>"
      ],
      "text/plain": [
       "                Time            V1            V2            V3            V4  \\\n",
       "count  284807.000000  2.848070e+05  2.848070e+05  2.848070e+05  2.848070e+05   \n",
       "mean    94813.859575  3.919560e-15  5.688174e-16 -8.769071e-15  2.782312e-15   \n",
       "std     47488.145955  1.958696e+00  1.651309e+00  1.516255e+00  1.415869e+00   \n",
       "min         0.000000 -5.640751e+01 -7.271573e+01 -4.832559e+01 -5.683171e+00   \n",
       "25%     54201.500000 -9.203734e-01 -5.985499e-01 -8.903648e-01 -8.486401e-01   \n",
       "50%     84692.000000  1.810880e-02  6.548556e-02  1.798463e-01 -1.984653e-02   \n",
       "75%    139320.500000  1.315642e+00  8.037239e-01  1.027196e+00  7.433413e-01   \n",
       "max    172792.000000  2.454930e+00  2.205773e+01  9.382558e+00  1.687534e+01   \n",
       "\n",
       "                 V5            V6            V7            V8            V9  \\\n",
       "count  2.848070e+05  2.848070e+05  2.848070e+05  2.848070e+05  2.848070e+05   \n",
       "mean  -1.552563e-15  2.010663e-15 -1.694249e-15 -1.927028e-16 -3.137024e-15   \n",
       "std    1.380247e+00  1.332271e+00  1.237094e+00  1.194353e+00  1.098632e+00   \n",
       "min   -1.137433e+02 -2.616051e+01 -4.355724e+01 -7.321672e+01 -1.343407e+01   \n",
       "25%   -6.915971e-01 -7.682956e-01 -5.540759e-01 -2.086297e-01 -6.430976e-01   \n",
       "50%   -5.433583e-02 -2.741871e-01  4.010308e-02  2.235804e-02 -5.142873e-02   \n",
       "75%    6.119264e-01  3.985649e-01  5.704361e-01  3.273459e-01  5.971390e-01   \n",
       "max    3.480167e+01  7.330163e+01  1.205895e+02  2.000721e+01  1.559499e+01   \n",
       "\n",
       "       ...           V21           V22           V23           V24  \\\n",
       "count  ...  2.848070e+05  2.848070e+05  2.848070e+05  2.848070e+05   \n",
       "mean   ...  1.537294e-16  7.959909e-16  5.367590e-16  4.458112e-15   \n",
       "std    ...  7.345240e-01  7.257016e-01  6.244603e-01  6.056471e-01   \n",
       "min    ... -3.483038e+01 -1.093314e+01 -4.480774e+01 -2.836627e+00   \n",
       "25%    ... -2.283949e-01 -5.423504e-01 -1.618463e-01 -3.545861e-01   \n",
       "50%    ... -2.945017e-02  6.781943e-03 -1.119293e-02  4.097606e-02   \n",
       "75%    ...  1.863772e-01  5.285536e-01  1.476421e-01  4.395266e-01   \n",
       "max    ...  2.720284e+01  1.050309e+01  2.252841e+01  4.584549e+00   \n",
       "\n",
       "                V25           V26           V27           V28         Amount  \\\n",
       "count  2.848070e+05  2.848070e+05  2.848070e+05  2.848070e+05  284807.000000   \n",
       "mean   1.453003e-15  1.699104e-15 -3.660161e-16 -1.206049e-16      88.349619   \n",
       "std    5.212781e-01  4.822270e-01  4.036325e-01  3.300833e-01     250.120109   \n",
       "min   -1.029540e+01 -2.604551e+00 -2.256568e+01 -1.543008e+01       0.000000   \n",
       "25%   -3.171451e-01 -3.269839e-01 -7.083953e-02 -5.295979e-02       5.600000   \n",
       "50%    1.659350e-02 -5.213911e-02  1.342146e-03  1.124383e-02      22.000000   \n",
       "75%    3.507156e-01  2.409522e-01  9.104512e-02  7.827995e-02      77.165000   \n",
       "max    7.519589e+00  3.517346e+00  3.161220e+01  3.384781e+01   25691.160000   \n",
       "\n",
       "               Class  \n",
       "count  284807.000000  \n",
       "mean        0.001727  \n",
       "std         0.041527  \n",
       "min         0.000000  \n",
       "25%         0.000000  \n",
       "50%         0.000000  \n",
       "75%         0.000000  \n",
       "max         1.000000  \n",
       "\n",
       "[8 rows x 31 columns]"
      ]
     },
     "execution_count": 3,
     "metadata": {},
     "output_type": "execute_result"
    }
   ],
   "source": [
    "data.describe()"
   ]
  },
  {
   "cell_type": "code",
   "execution_count": 4,
   "metadata": {
    "scrolled": true
   },
   "outputs": [
    {
     "data": {
      "text/plain": [
       "[['Time', dtype('float64')],\n",
       " ['V1', dtype('float64')],\n",
       " ['V2', dtype('float64')],\n",
       " ['V3', dtype('float64')],\n",
       " ['V4', dtype('float64')],\n",
       " ['V5', dtype('float64')],\n",
       " ['V6', dtype('float64')],\n",
       " ['V7', dtype('float64')],\n",
       " ['V8', dtype('float64')],\n",
       " ['V9', dtype('float64')],\n",
       " ['V10', dtype('float64')],\n",
       " ['V11', dtype('float64')],\n",
       " ['V12', dtype('float64')],\n",
       " ['V13', dtype('float64')],\n",
       " ['V14', dtype('float64')],\n",
       " ['V15', dtype('float64')],\n",
       " ['V16', dtype('float64')],\n",
       " ['V17', dtype('float64')],\n",
       " ['V18', dtype('float64')],\n",
       " ['V19', dtype('float64')],\n",
       " ['V20', dtype('float64')],\n",
       " ['V21', dtype('float64')],\n",
       " ['V22', dtype('float64')],\n",
       " ['V23', dtype('float64')],\n",
       " ['V24', dtype('float64')],\n",
       " ['V25', dtype('float64')],\n",
       " ['V26', dtype('float64')],\n",
       " ['V27', dtype('float64')],\n",
       " ['V28', dtype('float64')],\n",
       " ['Amount', dtype('float64')],\n",
       " ['Class', dtype('int64')]]"
      ]
     },
     "execution_count": 4,
     "metadata": {},
     "output_type": "execute_result"
    }
   ],
   "source": [
    "[[i, data[i].dtype] for i in data.columns]"
   ]
  },
  {
   "cell_type": "code",
   "execution_count": 5,
   "metadata": {
    "scrolled": true
   },
   "outputs": [
    {
     "data": {
      "image/png": "[encoded data removed]",
      "text/plain": [
       "<Figure size 432x288 with 1 Axes>"
      ]
     },
     "metadata": {
      "needs_background": "light"
     },
     "output_type": "display_data"
    },
    {
     "data": {
      "image/png": "[encoded data removed]",
      "text/plain": [
       "<Figure size 432x288 with 1 Axes>"
      ]
     },
     "metadata": {
      "needs_background": "light"
     },
     "output_type": "display_data"
    },
    {
     "data": {
      "image/png": "[encoded data removed]",
      "text/plain": [
       "<Figure size 432x288 with 1 Axes>"
      ]
     },
     "metadata": {
      "needs_background": "light"
     },
     "output_type": "display_data"
    },
    {
     "data": {
      "image/png": "[encoded data removed]",
      "text/plain": [
       "<Figure size 432x288 with 1 Axes>"
      ]
     },
     "metadata": {
      "needs_background": "light"
     },
     "output_type": "display_data"
    },
    {
     "data": {
      "image/png": "[encoded data removed]",
      "text/plain": [
       "<Figure size 432x288 with 1 Axes>"
      ]
     },
     "metadata": {
      "needs_background": "light"
     },
     "output_type": "display_data"
    },
    {
     "data": {
      "image/png": "[encoded data removed]",
      "text/plain": [
       "<Figure size 432x288 with 1 Axes>"
      ]
     },
     "metadata": {
      "needs_background": "light"
     },
     "output_type": "display_data"
    },
    {
     "data": {
      "image/png": "[encoded data removed]",
      "text/plain": [
       "<Figure size 432x288 with 1 Axes>"
      ]
     },
     "metadata": {
      "needs_background": "light"
     },
     "output_type": "display_data"
    },
    {
     "data": {
      "image/png": "[encoded data removed]",
      "text/plain": [
       "<Figure size 432x288 with 1 Axes>"
      ]
     },
     "metadata": {
      "needs_background": "light"
     },
     "output_type": "display_data"
    },
    {
     "data": {
      "image/png": "[encoded data removed]",
      "text/plain": [
       "<Figure size 432x288 with 1 Axes>"
      ]
     },
     "metadata": {
      "needs_background": "light"
     },
     "output_type": "display_data"
    },
    {
     "data": {
      "image/png": "[encoded data removed]",
      "text/plain": [
       "<Figure size 432x288 with 1 Axes>"
      ]
     },
     "metadata": {
      "needs_background": "light"
     },
     "output_type": "display_data"
    },
    {
     "data": {
      "image/png": "[encoded data removed]",
      "text/plain": [
       "<Figure size 432x288 with 1 Axes>"
      ]
     },
     "metadata": {
      "needs_background": "light"
     },
     "output_type": "display_data"
    },
    {
     "data": {
      "image/png": "[encoded data removed]",
      "text/plain": [
       "<Figure size 432x288 with 1 Axes>"
      ]
     },
     "metadata": {
      "needs_background": "light"
     },
     "output_type": "display_data"
    },
    {
     "data": {
      "image/png": "[encoded data removed]",
      "text/plain": [
       "<Figure size 432x288 with 1 Axes>"
      ]
     },
     "metadata": {
      "needs_background": "light"
     },
     "output_type": "display_data"
    },
    {
     "data": {
      "image/png": "[encoded data removed]",
      "text/plain": [
       "<Figure size 432x288 with 1 Axes>"
      ]
     },
     "metadata": {
      "needs_background": "light"
     },
     "output_type": "display_data"
    },
    {
     "data": {
      "image/png": "[encoded data removed]",
      "text/plain": [
       "<Figure size 432x288 with 1 Axes>"
      ]
     },
     "metadata": {
      "needs_background": "light"
     },
     "output_type": "display_data"
    },
    {
     "data": {
      "image/png": "[encoded data removed]",
      "text/plain": [
       "<Figure size 432x288 with 1 Axes>"
      ]
     },
     "metadata": {
      "needs_background": "light"
     },
     "output_type": "display_data"
    },
    {
     "data": {
      "image/png": "[encoded data removed]",
      "text/plain": [
       "<Figure size 432x288 with 1 Axes>"
      ]
     },
     "metadata": {
      "needs_background": "light"
     },
     "output_type": "display_data"
    },
    {
     "data": {
      "image/png": "[encoded data removed]",
      "text/plain": [
       "<Figure size 432x288 with 1 Axes>"
      ]
     },
     "metadata": {
      "needs_background": "light"
     },
     "output_type": "display_data"
    },
    {
     "data": {
      "image/png": "[encoded data removed]",
      "text/plain": [
       "<Figure size 432x288 with 1 Axes>"
      ]
     },
     "metadata": {
      "needs_background": "light"
     },
     "output_type": "display_data"
    },
    {
     "data": {
      "image/png": "[encoded data removed]",
      "text/plain": [
       "<Figure size 432x288 with 1 Axes>"
      ]
     },
     "metadata": {
      "needs_background": "light"
     },
     "output_type": "display_data"
    },
    {
     "data": {
      "image/png": "[encoded data removed]",
      "text/plain": [
       "<Figure size 432x288 with 1 Axes>"
      ]
     },
     "metadata": {
      "needs_background": "light"
     },
     "output_type": "display_data"
    },
    {
     "data": {
      "image/png": "[encoded data removed]",
      "text/plain": [
       "<Figure size 432x288 with 1 Axes>"
      ]
     },
     "metadata": {
      "needs_background": "light"
     },
     "output_type": "display_data"
    },
    {
     "data": {
      "image/png": "[encoded data removed]",
      "text/plain": [
       "<Figure size 432x288 with 1 Axes>"
      ]
     },
     "metadata": {
      "needs_background": "light"
     },
     "output_type": "display_data"
    },
    {
     "data": {
      "image/png": "[encoded data removed]",
      "text/plain": [
       "<Figure size 432x288 with 1 Axes>"
      ]
     },
     "metadata": {
      "needs_background": "light"
     },
     "output_type": "display_data"
    },
    {
     "data": {
      "image/png": "[encoded data removed]",
      "text/plain": [
       "<Figure size 432x288 with 1 Axes>"
      ]
     },
     "metadata": {
      "needs_background": "light"
     },
     "output_type": "display_data"
    },
    {
     "data": {
      "image/png": "[encoded data removed]",
      "text/plain": [
       "<Figure size 432x288 with 1 Axes>"
      ]
     },
     "metadata": {
      "needs_background": "light"
     },
     "output_type": "display_data"
    },
    {
     "data": {
      "image/png": "[encoded data removed]",
      "text/plain": [
       "<Figure size 432x288 with 1 Axes>"
      ]
     },
     "metadata": {
      "needs_background": "light"
     },
     "output_type": "display_data"
    },
    {
     "data": {
      "image/png": "[encoded data removed]",
      "text/plain": [
       "<Figure size 432x288 with 1 Axes>"
      ]
     },
     "metadata": {
      "needs_background": "light"
     },
     "output_type": "display_data"
    },
    {
     "data": {
      "image/png": "[encoded data removed]",
      "text/plain": [
       "<Figure size 432x288 with 1 Axes>"
      ]
     },
     "metadata": {
      "needs_background": "light"
     },
     "output_type": "display_data"
    },
    {
     "data": {
      "image/png": "[encoded data removed]",
      "text/plain": [
       "<Figure size 432x288 with 1 Axes>"
      ]
     },
     "metadata": {
      "needs_background": "light"
     },
     "output_type": "display_data"
    }
   ],
   "source": [
    "def box(df):\n",
    "    numerical_cols = df.columns.difference(['Class']).tolist()\n",
    "    for i in df.loc[:,numerical_cols]:\n",
    "        df.boxplot(i)\n",
    "        plt.show()\n",
    "        \n",
    "box(data)"
   ]
  },
  {
   "cell_type": "markdown",
   "metadata": {},
   "source": [
    "Almost all the columns have outliers & hence, we will proceed without outlier treatment"
   ]
  },
  {
   "cell_type": "code",
   "execution_count": 6,
   "metadata": {
    "scrolled": true
   },
   "outputs": [
    {
     "name": "stdout",
     "output_type": "stream",
     "text": [
      "Histogram of : Time\n"
     ]
    },
    {
     "data": {
      "image/png": "[encoded data removed]",
      "text/plain": [
       "<Figure size 432x288 with 1 Axes>"
      ]
     },
     "metadata": {
      "needs_background": "light"
     },
     "output_type": "display_data"
    },
    {
     "name": "stdout",
     "output_type": "stream",
     "text": [
      "Histogram of : V1\n"
     ]
    },
    {
     "data": {
      "image/png": "[encoded data removed]",
      "text/plain": [
       "<Figure size 432x288 with 1 Axes>"
      ]
     },
     "metadata": {
      "needs_background": "light"
     },
     "output_type": "display_data"
    },
    {
     "name": "stdout",
     "output_type": "stream",
     "text": [
      "Histogram of : V2\n"
     ]
    },
    {
     "data": {
      "image/png": "[encoded data removed]",
      "text/plain": [
       "<Figure size 432x288 with 1 Axes>"
      ]
     },
     "metadata": {
      "needs_background": "light"
     },
     "output_type": "display_data"
    },
    {
     "name": "stdout",
     "output_type": "stream",
     "text": [
      "Histogram of : V3\n"
     ]
    },
    {
     "data": {
      "image/png": "[encoded data removed]",
      "text/plain": [
       "<Figure size 432x288 with 1 Axes>"
      ]
     },
     "metadata": {
      "needs_background": "light"
     },
     "output_type": "display_data"
    },
    {
     "name": "stdout",
     "output_type": "stream",
     "text": [
      "Histogram of : V4\n"
     ]
    },
    {
     "data": {
      "image/png": "[encoded data removed]",
      "text/plain": [
       "<Figure size 432x288 with 1 Axes>"
      ]
     },
     "metadata": {
      "needs_background": "light"
     },
     "output_type": "display_data"
    },
    {
     "name": "stdout",
     "output_type": "stream",
     "text": [
      "Histogram of : V5\n"
     ]
    },
    {
     "data": {
      "image/png": "[encoded data removed]",
      "text/plain": [
       "<Figure size 432x288 with 1 Axes>"
      ]
     },
     "metadata": {
      "needs_background": "light"
     },
     "output_type": "display_data"
    },
    {
     "name": "stdout",
     "output_type": "stream",
     "text": [
      "Histogram of : V6\n"
     ]
    },
    {
     "data": {
      "image/png": "[encoded data removed]",
      "text/plain": [
       "<Figure size 432x288 with 1 Axes>"
      ]
     },
     "metadata": {
      "needs_background": "light"
     },
     "output_type": "display_data"
    },
    {
     "name": "stdout",
     "output_type": "stream",
     "text": [
      "Histogram of : V7\n"
     ]
    },
    {
     "data": {
      "image/png": "[encoded data removed]",
      "text/plain": [
       "<Figure size 432x288 with 1 Axes>"
      ]
     },
     "metadata": {
      "needs_background": "light"
     },
     "output_type": "display_data"
    },
    {
     "name": "stdout",
     "output_type": "stream",
     "text": [
      "Histogram of : V8\n"
     ]
    },
    {
     "data": {
      "image/png": "[encoded data removed]",
      "text/plain": [
       "<Figure size 432x288 with 1 Axes>"
      ]
     },
     "metadata": {
      "needs_background": "light"
     },
     "output_type": "display_data"
    },
    {
     "name": "stdout",
     "output_type": "stream",
     "text": [
      "Histogram of : V9\n"
     ]
    },
    {
     "data": {
      "image/png": "[encoded data removed]",
      "text/plain": [
       "<Figure size 432x288 with 1 Axes>"
      ]
     },
     "metadata": {
      "needs_background": "light"
     },
     "output_type": "display_data"
    },
    {
     "name": "stdout",
     "output_type": "stream",
     "text": [
      "Histogram of : V10\n"
     ]
    },
    {
     "data": {
      "image/png": "[encoded data removed]",
      "text/plain": [
       "<Figure size 432x288 with 1 Axes>"
      ]
     },
     "metadata": {
      "needs_background": "light"
     },
     "output_type": "display_data"
    },
    {
     "name": "stdout",
     "output_type": "stream",
     "text": [
      "Histogram of : V11\n"
     ]
    },
    {
     "data": {
      "image/png": "[encoded data removed]",
      "text/plain": [
       "<Figure size 432x288 with 1 Axes>"
      ]
     },
     "metadata": {
      "needs_background": "light"
     },
     "output_type": "display_data"
    },
    {
     "name": "stdout",
     "output_type": "stream",
     "text": [
      "Histogram of : V12\n"
     ]
    },
    {
     "data": {
      "image/png": "[encoded data removed]",
      "text/plain": [
       "<Figure size 432x288 with 1 Axes>"
      ]
     },
     "metadata": {
      "needs_background": "light"
     },
     "output_type": "display_data"
    },
    {
     "name": "stdout",
     "output_type": "stream",
     "text": [
      "Histogram of : V13\n"
     ]
    },
    {
     "data": {
      "image/png": "[encoded data removed]",
      "text/plain": [
       "<Figure size 432x288 with 1 Axes>"
      ]
     },
     "metadata": {
      "needs_background": "light"
     },
     "output_type": "display_data"
    },
    {
     "name": "stdout",
     "output_type": "stream",
     "text": [
      "Histogram of : V14\n"
     ]
    },
    {
     "data": {
      "image/png": "[encoded data removed]",
      "text/plain": [
       "<Figure size 432x288 with 1 Axes>"
      ]
     },
     "metadata": {
      "needs_background": "light"
     },
     "output_type": "display_data"
    },
    {
     "name": "stdout",
     "output_type": "stream",
     "text": [
      "Histogram of : V15\n"
     ]
    },
    {
     "data": {
      "image/png": "[encoded data removed]",
      "text/plain": [
       "<Figure size 432x288 with 1 Axes>"
      ]
     },
     "metadata": {
      "needs_background": "light"
     },
     "output_type": "display_data"
    },
    {
     "name": "stdout",
     "output_type": "stream",
     "text": [
      "Histogram of : V16\n"
     ]
    },
    {
     "data": {
      "image/png": "[encoded data removed]",
      "text/plain": [
       "<Figure size 432x288 with 1 Axes>"
      ]
     },
     "metadata": {
      "needs_background": "light"
     },
     "output_type": "display_data"
    },
    {
     "name": "stdout",
     "output_type": "stream",
     "text": [
      "Histogram of : V17\n"
     ]
    },
    {
     "data": {
      "image/png": "[encoded data removed]",
      "text/plain": [
       "<Figure size 432x288 with 1 Axes>"
      ]
     },
     "metadata": {
      "needs_background": "light"
     },
     "output_type": "display_data"
    },
    {
     "name": "stdout",
     "output_type": "stream",
     "text": [
      "Histogram of : V18\n"
     ]
    },
    {
     "data": {
      "image/png": "[encoded data removed]",
      "text/plain": [
       "<Figure size 432x288 with 1 Axes>"
      ]
     },
     "metadata": {
      "needs_background": "light"
     },
     "output_type": "display_data"
    },
    {
     "name": "stdout",
     "output_type": "stream",
     "text": [
      "Histogram of : V19\n"
     ]
    },
    {
     "data": {
      "image/png": "[encoded data removed]",
      "text/plain": [
       "<Figure size 432x288 with 1 Axes>"
      ]
     },
     "metadata": {
      "needs_background": "light"
     },
     "output_type": "display_data"
    },
    {
     "name": "stdout",
     "output_type": "stream",
     "text": [
      "Histogram of : V20\n"
     ]
    },
    {
     "data": {
      "image/png": "[encoded data removed]",
      "text/plain": [
       "<Figure size 432x288 with 1 Axes>"
      ]
     },
     "metadata": {
      "needs_background": "light"
     },
     "output_type": "display_data"
    },
    {
     "name": "stdout",
     "output_type": "stream",
     "text": [
      "Histogram of : V21\n"
     ]
    },
    {
     "data": {
      "image/png": "[encoded data removed]",
      "text/plain": [
       "<Figure size 432x288 with 1 Axes>"
      ]
     },
     "metadata": {
      "needs_background": "light"
     },
     "output_type": "display_data"
    },
    {
     "name": "stdout",
     "output_type": "stream",
     "text": [
      "Histogram of : V22\n"
     ]
    },
    {
     "data": {
      "image/png": "[encoded data removed]",
      "text/plain": [
       "<Figure size 432x288 with 1 Axes>"
      ]
     },
     "metadata": {
      "needs_background": "light"
     },
     "output_type": "display_data"
    },
    {
     "name": "stdout",
     "output_type": "stream",
     "text": [
      "Histogram of : V23\n"
     ]
    },
    {
     "data": {
      "image/png": "[encoded data removed]",
      "text/plain": [
       "<Figure size 432x288 with 1 Axes>"
      ]
     },
     "metadata": {
      "needs_background": "light"
     },
     "output_type": "display_data"
    },
    {
     "name": "stdout",
     "output_type": "stream",
     "text": [
      "Histogram of : V24\n"
     ]
    },
    {
     "data": {
      "image/png": "[encoded data removed]",
      "text/plain": [
       "<Figure size 432x288 with 1 Axes>"
      ]
     },
     "metadata": {
      "needs_background": "light"
     },
     "output_type": "display_data"
    },
    {
     "name": "stdout",
     "output_type": "stream",
     "text": [
      "Histogram of : V25\n"
     ]
    },
    {
     "data": {
      "image/png": "[encoded data removed]",
      "text/plain": [
       "<Figure size 432x288 with 1 Axes>"
      ]
     },
     "metadata": {
      "needs_background": "light"
     },
     "output_type": "display_data"
    },
    {
     "name": "stdout",
     "output_type": "stream",
     "text": [
      "Histogram of : V26\n"
     ]
    },
    {
     "data": {
      "image/png": "[encoded data removed]",
      "text/plain": [
       "<Figure size 432x288 with 1 Axes>"
      ]
     },
     "metadata": {
      "needs_background": "light"
     },
     "output_type": "display_data"
    },
    {
     "name": "stdout",
     "output_type": "stream",
     "text": [
      "Histogram of : V27\n"
     ]
    },
    {
     "data": {
      "image/png": "[encoded data removed]",
      "text/plain": [
       "<Figure size 432x288 with 1 Axes>"
      ]
     },
     "metadata": {
      "needs_background": "light"
     },
     "output_type": "display_data"
    },
    {
     "name": "stdout",
     "output_type": "stream",
     "text": [
      "Histogram of : V28\n"
     ]
    },
    {
     "data": {
      "image/png": "[encoded data removed]",
      "text/plain": [
       "<Figure size 432x288 with 1 Axes>"
      ]
     },
     "metadata": {
      "needs_background": "light"
     },
     "output_type": "display_data"
    },
    {
     "name": "stdout",
     "output_type": "stream",
     "text": [
      "Histogram of : Amount\n"
     ]
    },
    {
     "data": {
      "image/png": "[encoded data removed]",
      "text/plain": [
       "<Figure size 432x288 with 1 Axes>"
      ]
     },
     "metadata": {
      "needs_background": "light"
     },
     "output_type": "display_data"
    }
   ],
   "source": [
    "def plot_vars(df):\n",
    "    for i in df.columns[:30]:\n",
    "        if (df[i].dtype == 'int64') or (df[i].dtype == 'float64'):\n",
    "            print('Histogram of :',i)\n",
    "            plt.hist(df[i],bins=15)\n",
    "            plt.show()\n",
    "        else:\n",
    "            print('Bar graph of :',i)\n",
    "            plt.bar(df[i].unique().tolist(),df[i].value_counts().tolist())\n",
    "            plt.show()\n",
    "            \n",
    "plot_vars(data)"
   ]
  },
  {
   "cell_type": "markdown",
   "metadata": {},
   "source": [
    " "
   ]
  },
  {
   "cell_type": "markdown",
   "metadata": {},
   "source": [
    "<b>Outlier Analysis"
   ]
  },
  {
   "cell_type": "code",
   "execution_count": 7,
   "metadata": {
    "scrolled": true
   },
   "outputs": [
    {
     "name": "stdout",
     "output_type": "stream",
     "text": [
      "Amount\n",
      "Suspected outliers :\n",
      "(31904, 31) \n",
      "\n",
      "0    11.189350\n",
      "1    18.495935\n",
      "Name: Class, dtype: float64\n",
      "\n",
      "\n",
      "Regular observations :\n",
      "(252903, 31) \n",
      "\n",
      "0    88.810650\n",
      "1    81.504065\n",
      "Name: Class, dtype: float64\n",
      "\n",
      "\n",
      "\n",
      "Time\n",
      "Suspected outliers :\n",
      "(0, 31) \n",
      "\n",
      "0   NaN\n",
      "1   NaN\n",
      "Name: Class, dtype: float64\n",
      "\n",
      "\n",
      "Regular observations :\n",
      "(284807, 31) \n",
      "\n",
      "0    100.0\n",
      "1    100.0\n",
      "Name: Class, dtype: float64\n",
      "\n",
      "\n",
      "\n",
      "V1\n",
      "Suspected outliers :\n",
      "(7062, 31) \n",
      "\n",
      "0     2.422665\n",
      "1    35.365854\n",
      "Name: Class, dtype: float64\n",
      "\n",
      "\n",
      "Regular observations :\n",
      "(277745, 31) \n",
      "\n",
      "0    97.577335\n",
      "1    64.634146\n",
      "Name: Class, dtype: float64\n",
      "\n",
      "\n",
      "\n",
      "V10\n",
      "Suspected outliers :\n",
      "(9496, 31) \n",
      "\n",
      "0     3.199620\n",
      "1    81.097561\n",
      "Name: Class, dtype: float64\n",
      "\n",
      "\n",
      "Regular observations :\n",
      "(275311, 31) \n",
      "\n",
      "0    96.800380\n",
      "1    18.902439\n",
      "Name: Class, dtype: float64\n",
      "\n",
      "\n",
      "\n",
      "V11\n",
      "Suspected outliers :\n",
      "(780, 31) \n",
      "\n",
      "0     0.170937\n",
      "1    59.756098\n",
      "Name: Class, dtype: float64\n",
      "\n",
      "\n",
      "Regular observations :\n",
      "(284027, 31) \n",
      "\n",
      "0    99.829063\n",
      "1    40.243902\n",
      "Name: Class, dtype: float64\n",
      "\n",
      "\n",
      "\n",
      "V12\n",
      "Suspected outliers :\n",
      "(15348, 31) \n",
      "\n",
      "0     5.254383\n",
      "1    83.130081\n",
      "Name: Class, dtype: float64\n",
      "\n",
      "\n",
      "Regular observations :\n",
      "(269459, 31) \n",
      "\n",
      "0    94.745617\n",
      "1    16.869919\n",
      "Name: Class, dtype: float64\n",
      "\n",
      "\n",
      "\n",
      "V13\n",
      "Suspected outliers :\n",
      "(3368, 31) \n",
      "\n",
      "0    1.181788\n",
      "1    1.626016\n",
      "Name: Class, dtype: float64\n",
      "\n",
      "\n",
      "Regular observations :\n",
      "(281439, 31) \n",
      "\n",
      "0    98.818212\n",
      "1    98.373984\n",
      "Name: Class, dtype: float64\n",
      "\n",
      "\n",
      "\n",
      "V14\n",
      "Suspected outliers :\n",
      "(14149, 31) \n",
      "\n",
      "0     4.825282\n",
      "1    87.398374\n",
      "Name: Class, dtype: float64\n",
      "\n",
      "\n",
      "Regular observations :\n",
      "(270658, 31) \n",
      "\n",
      "0    95.174718\n",
      "1    12.601626\n",
      "Name: Class, dtype: float64\n",
      "\n",
      "\n",
      "\n",
      "V15\n",
      "Suspected outliers :\n",
      "(2894, 31) \n",
      "\n",
      "0    1.013664\n",
      "1    2.439024\n",
      "Name: Class, dtype: float64\n",
      "\n",
      "\n",
      "Regular observations :\n",
      "(281913, 31) \n",
      "\n",
      "0    98.986336\n",
      "1    97.560976\n",
      "Name: Class, dtype: float64\n",
      "\n",
      "\n",
      "\n",
      "V16\n",
      "Suspected outliers :\n",
      "(8184, 31) \n",
      "\n",
      "0     2.755043\n",
      "1    71.341463\n",
      "Name: Class, dtype: float64\n",
      "\n",
      "\n",
      "Regular observations :\n",
      "(276623, 31) \n",
      "\n",
      "0    97.244957\n",
      "1    28.658537\n",
      "Name: Class, dtype: float64\n",
      "\n",
      "\n",
      "\n",
      "V17\n",
      "Suspected outliers :\n",
      "(7420, 31) \n",
      "\n",
      "0     2.470148\n",
      "1    80.691057\n",
      "Name: Class, dtype: float64\n",
      "\n",
      "\n",
      "Regular observations :\n",
      "(277387, 31) \n",
      "\n",
      "0    97.529852\n",
      "1    19.308943\n",
      "Name: Class, dtype: float64\n",
      "\n",
      "\n",
      "\n",
      "V18\n",
      "Suspected outliers :\n",
      "(7533, 31) \n",
      "\n",
      "0     2.566168\n",
      "1    48.170732\n",
      "Name: Class, dtype: float64\n",
      "\n",
      "\n",
      "Regular observations :\n",
      "(277274, 31) \n",
      "\n",
      "0    97.433832\n",
      "1    51.829268\n",
      "Name: Class, dtype: float64\n",
      "\n",
      "\n",
      "\n",
      "V19\n",
      "Suspected outliers :\n",
      "(10205, 31) \n",
      "\n",
      "0     3.541846\n",
      "1    27.439024\n",
      "Name: Class, dtype: float64\n",
      "\n",
      "\n",
      "Regular observations :\n",
      "(274602, 31) \n",
      "\n",
      "0    96.458154\n",
      "1    72.560976\n",
      "Name: Class, dtype: float64\n",
      "\n",
      "\n",
      "\n",
      "V2\n",
      "Suspected outliers :\n",
      "(13526, 31) \n",
      "\n",
      "0     4.670876\n",
      "1    50.000000\n",
      "Name: Class, dtype: float64\n",
      "\n",
      "\n",
      "Regular observations :\n",
      "(271281, 31) \n",
      "\n",
      "0    95.329124\n",
      "1    50.000000\n",
      "Name: Class, dtype: float64\n",
      "\n",
      "\n",
      "\n",
      "V20\n",
      "Suspected outliers :\n",
      "(27770, 31) \n",
      "\n",
      "0     9.699101\n",
      "1    39.430894\n",
      "Name: Class, dtype: float64\n",
      "\n",
      "\n",
      "Regular observations :\n",
      "(257037, 31) \n",
      "\n",
      "0    90.300899\n",
      "1    60.569106\n",
      "Name: Class, dtype: float64\n",
      "\n",
      "\n",
      "\n",
      "V21\n",
      "Suspected outliers :\n",
      "(14497, 31) \n",
      "\n",
      "0     5.013102\n",
      "1    49.593496\n",
      "Name: Class, dtype: float64\n",
      "\n",
      "\n",
      "Regular observations :\n",
      "(270310, 31) \n",
      "\n",
      "0    94.986898\n",
      "1    50.406504\n",
      "Name: Class, dtype: float64\n",
      "\n",
      "\n",
      "\n",
      "V22\n",
      "Suspected outliers :\n",
      "(1317, 31) \n",
      "\n",
      "0    0.453370\n",
      "1    5.691057\n",
      "Name: Class, dtype: float64\n",
      "\n",
      "\n",
      "Regular observations :\n",
      "(283490, 31) \n",
      "\n",
      "0    99.546630\n",
      "1    94.308943\n",
      "Name: Class, dtype: float64\n",
      "\n",
      "\n",
      "\n",
      "V23\n",
      "Suspected outliers :\n",
      "(18541, 31) \n",
      "\n",
      "0     6.468881\n",
      "1    30.284553\n",
      "Name: Class, dtype: float64\n",
      "\n",
      "\n",
      "Regular observations :\n",
      "(266266, 31) \n",
      "\n",
      "0    93.531119\n",
      "1    69.715447\n",
      "Name: Class, dtype: float64\n",
      "\n",
      "\n",
      "\n",
      "V24\n",
      "Suspected outliers :\n",
      "(4774, 31) \n",
      "\n",
      "0    1.678068\n",
      "1    0.609756\n",
      "Name: Class, dtype: float64\n",
      "\n",
      "\n",
      "Regular observations :\n",
      "(280033, 31) \n",
      "\n",
      "0    98.321932\n",
      "1    99.390244\n",
      "Name: Class, dtype: float64\n",
      "\n",
      "\n",
      "\n",
      "V25\n",
      "Suspected outliers :\n",
      "(5367, 31) \n",
      "\n",
      "0     1.868350\n",
      "1    11.178862\n",
      "Name: Class, dtype: float64\n",
      "\n",
      "\n",
      "Regular observations :\n",
      "(279440, 31) \n",
      "\n",
      "0    98.131650\n",
      "1    88.821138\n",
      "Name: Class, dtype: float64\n",
      "\n",
      "\n",
      "\n",
      "V26\n",
      "Suspected outliers :\n",
      "(5596, 31) \n",
      "\n",
      "0    1.964722\n",
      "1    2.032520\n",
      "Name: Class, dtype: float64\n",
      "\n",
      "\n",
      "Regular observations :\n",
      "(279211, 31) \n",
      "\n",
      "0    98.035278\n",
      "1    97.967480\n",
      "Name: Class, dtype: float64\n",
      "\n",
      "\n",
      "\n",
      "V27\n",
      "Suspected outliers :\n",
      "(39163, 31) \n",
      "\n",
      "0    13.653518\n",
      "1    69.918699\n",
      "Name: Class, dtype: float64\n",
      "\n",
      "\n",
      "Regular observations :\n",
      "(245644, 31) \n",
      "\n",
      "0    86.346482\n",
      "1    30.081301\n",
      "Name: Class, dtype: float64\n",
      "\n",
      "\n",
      "\n",
      "V28\n",
      "Suspected outliers :\n",
      "(30342, 31) \n",
      "\n",
      "0    10.576297\n",
      "1    55.284553\n",
      "Name: Class, dtype: float64\n",
      "\n",
      "\n",
      "Regular observations :\n",
      "(254465, 31) \n",
      "\n",
      "0    89.423703\n",
      "1    44.715447\n",
      "Name: Class, dtype: float64\n",
      "\n",
      "\n",
      "\n",
      "V3\n",
      "Suspected outliers :\n",
      "(3363, 31) \n",
      "\n",
      "0     1.073106\n",
      "1    63.414634\n",
      "Name: Class, dtype: float64\n",
      "\n",
      "\n",
      "Regular observations :\n",
      "(281444, 31) \n",
      "\n",
      "0    98.926894\n",
      "1    36.585366\n",
      "Name: Class, dtype: float64\n",
      "\n",
      "\n",
      "\n",
      "V4\n",
      "Suspected outliers :\n",
      "(11148, 31) \n",
      "\n",
      "0     3.809155\n",
      "1    64.634146\n",
      "Name: Class, dtype: float64\n",
      "\n",
      "\n",
      "Regular observations :\n",
      "(273659, 31) \n",
      "\n",
      "0    96.190845\n",
      "1    35.365854\n",
      "Name: Class, dtype: float64\n",
      "\n",
      "\n",
      "\n",
      "V5\n",
      "Suspected outliers :\n",
      "(12295, 31) \n",
      "\n",
      "0     4.251271\n",
      "1    42.276423\n",
      "Name: Class, dtype: float64\n",
      "\n",
      "\n",
      "Regular observations :\n",
      "(272512, 31) \n",
      "\n",
      "0    95.748729\n",
      "1    57.723577\n",
      "Name: Class, dtype: float64\n",
      "\n",
      "\n",
      "\n",
      "V6\n",
      "Suspected outliers :\n",
      "(22965, 31) \n",
      "\n",
      "0     8.029123\n",
      "1    27.845528\n",
      "Name: Class, dtype: float64\n",
      "\n",
      "\n",
      "Regular observations :\n",
      "(261842, 31) \n",
      "\n",
      "0    91.970877\n",
      "1    72.154472\n",
      "Name: Class, dtype: float64\n",
      "\n",
      "\n",
      "\n",
      "V7\n",
      "Suspected outliers :\n",
      "(8948, 31) \n",
      "\n",
      "0     3.041345\n",
      "1    61.178862\n",
      "Name: Class, dtype: float64\n",
      "\n",
      "\n",
      "Regular observations :\n",
      "(275859, 31) \n",
      "\n",
      "0    96.958655\n",
      "1    38.821138\n",
      "Name: Class, dtype: float64\n",
      "\n",
      "\n",
      "\n",
      "V8\n",
      "Suspected outliers :\n",
      "(24134, 31) \n",
      "\n",
      "0     8.401597\n",
      "1    50.203252\n",
      "Name: Class, dtype: float64\n",
      "\n",
      "\n",
      "Regular observations :\n",
      "(260673, 31) \n",
      "\n",
      "0    91.598403\n",
      "1    49.796748\n",
      "Name: Class, dtype: float64\n",
      "\n",
      "\n",
      "\n",
      "V9\n",
      "Suspected outliers :\n",
      "(8283, 31) \n",
      "\n",
      "0     2.834884\n",
      "1    45.325203\n",
      "Name: Class, dtype: float64\n",
      "\n",
      "\n",
      "Regular observations :\n",
      "(276524, 31) \n",
      "\n",
      "0    97.165116\n",
      "1    54.674797\n",
      "Name: Class, dtype: float64\n",
      "\n",
      "\n",
      "\n"
     ]
    }
   ],
   "source": [
    "def outlier(col):\n",
    "    \n",
    "    q75, q25 = np.percentile(col, [75,25])\n",
    "    \n",
    "    iqr = q75 - q25\n",
    "        \n",
    "    outlier_left = q25 - 1.5*iqr\n",
    "    \n",
    "    outlier_right = q75 + 1.5*iqr\n",
    "    \n",
    "    return (outlier_left, outlier_right)\n",
    "\n",
    "\n",
    "\n",
    "def outlier_analysis(ls):\n",
    "\n",
    "    lower = outlier(data[ls])[0]\n",
    "    upper = outlier(data[ls])[1]\n",
    "\n",
    "    print(ls)\n",
    "    print('Suspected outliers :')\n",
    "    print( data[(data[ls] < lower) | (data[ls] > upper )].shape ,'\\n')\n",
    "\n",
    "    print( data[ (data[ls] < lower) | (data[ls] > upper) ]['Class'].value_counts() / \\\n",
    "          data['Class'].value_counts() *100 )\n",
    "    print('\\n')\n",
    "\n",
    "    print('Regular observations :')\n",
    "    print( data[(data[ls] > lower) & (data[ls] < upper )].shape ,'\\n')\n",
    "\n",
    "    print( data[(data[ls] > lower) & (data[ls] < upper)]['Class'].value_counts() / \\\n",
    "          data['Class'].value_counts() *100 )\n",
    "\n",
    "    print('\\n\\n')\n",
    "\n",
    "for i in data.columns.difference(['Class']).tolist():\n",
    "    outlier_analysis( i ) "
   ]
  },
  {
   "cell_type": "markdown",
   "metadata": {},
   "source": [
    "Features that can have meaningful outliers (as they could bring additional predictive power):\n",
    "    Amount, V1, V10*, V11*, V12, V14, V16, V17, V18, V19, V2, V20, V21, V23, V27, V28, V3, V4, V5, V6, V7, V8, V9.\n",
    "    \n",
    "Don't: V13, V15, V22, V24, V25, V26."
   ]
  },
  {
   "cell_type": "code",
   "execution_count": 8,
   "metadata": {},
   "outputs": [
    {
     "data": {
      "text/plain": [
       "['V13', 'V15', 'V22', 'V24', 'V25', 'V26']"
      ]
     },
     "execution_count": 8,
     "metadata": {},
     "output_type": "execute_result"
    }
   ],
   "source": [
    "treat = ['V13', 'V15', 'V22', 'V24', 'V25', 'V26']\n",
    "treat"
   ]
  },
  {
   "cell_type": "code",
   "execution_count": 9,
   "metadata": {
    "scrolled": true
   },
   "outputs": [],
   "source": [
    "cd = data.copy()\n",
    "\n",
    "for i in treat:\n",
    "    \n",
    "    q75, q25 = np.percentile( cd[i], [75,25] )\n",
    "    \n",
    "    lower = outlier(data[i])[0]\n",
    "    upper = outlier(data[i])[1]\n",
    "#     print(upper, lower)\n",
    "    \n",
    "    cd.ix[cd[i] > upper, i] = q75 \n",
    "    cd.ix[cd[i] < lower, i] = q25"
   ]
  },
  {
   "cell_type": "markdown",
   "metadata": {},
   "source": [
    " "
   ]
  },
  {
   "cell_type": "markdown",
   "metadata": {},
   "source": [
    "<b>Clustering to check if the two form good clusters:"
   ]
  },
  {
   "cell_type": "code",
   "execution_count": 10,
   "metadata": {},
   "outputs": [],
   "source": [
    "clust_data = data.copy()\n",
    "\n",
    "cd = clust_data.drop(columns='Class')\n",
    "cd = minmax_scale(cd)\n",
    "\n",
    "K = KMeans(n_clusters=2).fit_predict(cd)\n",
    "# K.labels_"
   ]
  },
  {
   "cell_type": "code",
   "execution_count": 11,
   "metadata": {},
   "outputs": [
    {
     "name": "stdout",
     "output_type": "stream",
     "text": [
      "Silhoutte score is :  0.4172\n"
     ]
    }
   ],
   "source": [
    "# silhouette_score(cd, K, random_state = rand_state)\n",
    "\n",
    "print('Silhoutte score is : ',0.4172)"
   ]
  },
  {
   "cell_type": "code",
   "execution_count": 12,
   "metadata": {},
   "outputs": [
    {
     "name": "stdout",
     "output_type": "stream",
     "text": [
      "0    46.307441\n",
      "1    32.113821\n",
      "Name: Class, dtype: float64\n"
     ]
    },
    {
     "data": {
      "text/plain": [
       "0    53.692559\n",
       "1    67.886179\n",
       "Name: Class, dtype: float64"
      ]
     },
     "execution_count": 12,
     "metadata": {},
     "output_type": "execute_result"
    }
   ],
   "source": [
    "cd = data.copy()\n",
    "\n",
    "cd['Clust'] = K\n",
    "\n",
    "print( cd[cd['Clust'] == 1]['Class'].value_counts()/cd['Class'].value_counts() *100 )\n",
    "\n",
    "cd[cd['Clust'] == 0]['Class'].value_counts()/ cd['Class'].value_counts()*100"
   ]
  },
  {
   "cell_type": "markdown",
   "metadata": {},
   "source": [
    " The silhoutte score of the clustering done is approx. 0.4 which means the two clusters are fairly separated. But after checking them against the labels, we see that clustering hasn't been done according to the labels that the data has. This could mean that our data can probably be non-linearly separated."
   ]
  },
  {
   "cell_type": "markdown",
   "metadata": {},
   "source": [
    " "
   ]
  },
  {
   "cell_type": "markdown",
   "metadata": {},
   "source": [
    "<b>Correlation analysis"
   ]
  },
  {
   "cell_type": "code",
   "execution_count": 13,
   "metadata": {},
   "outputs": [
    {
     "data": {
      "text/plain": [
       "[]"
      ]
     },
     "execution_count": 13,
     "metadata": {},
     "output_type": "execute_result"
    }
   ],
   "source": [
    "def show_unimp_vars(df,max_corr):\n",
    "\n",
    "    dfq = df.corr()\n",
    "\n",
    "    corr = []\n",
    "\n",
    "    for ind,row in dfq.iterrows():\n",
    "        for i in row.index.tolist():\n",
    "            if ind != i and abs(row[i]) > max_corr:\n",
    "                if (i,ind) in corr:\n",
    "                    continue\n",
    "                else:\n",
    "                    corr.append((ind,i))\n",
    "    \n",
    "    return corr\n",
    "\n",
    "\n",
    "corr_list = show_unimp_vars(data, max_corr = 0.6)\n",
    "corr_list"
   ]
  },
  {
   "cell_type": "markdown",
   "metadata": {},
   "source": [
    " "
   ]
  },
  {
   "cell_type": "markdown",
   "metadata": {},
   "source": [
    "<b>Baseline model:"
   ]
  },
  {
   "cell_type": "code",
   "execution_count": 14,
   "metadata": {},
   "outputs": [],
   "source": [
    "def preprocessing_X(df):  \n",
    "    \n",
    "    X_ = df.copy()\n",
    "    \n",
    "    X_.drop(columns=['Class'],inplace=True)\n",
    "    \n",
    "    from sklearn.preprocessing import MinMaxScaler\n",
    "\n",
    "    STS = MinMaxScaler()\n",
    "\n",
    "    X_[X_.select_dtypes(['int64','float64']).columns.tolist()] = STS.fit_transform(X_[X_.select_dtypes(['int64','float64']).columns.tolist()])\n",
    "    \n",
    "    return X_\n",
    "\n",
    "X = preprocessing_X(data)"
   ]
  },
  {
   "cell_type": "code",
   "execution_count": 15,
   "metadata": {},
   "outputs": [],
   "source": [
    "y = data['Class']"
   ]
  },
  {
   "cell_type": "code",
   "execution_count": 23,
   "metadata": {},
   "outputs": [],
   "source": [
    "def model_built(X1,y1, test_ratio, algo):\n",
    "    \n",
    "    from sklearn.model_selection import train_test_split\n",
    "\n",
    "    X_train,X_test,y_train,y_test = train_test_split(X1,y1,random_state=123,test_size=test_ratio)\n",
    "\n",
    "    model1 = LogisticRegressionCV(solver='liblinear', cv=3, Cs=[0.1,1,10]).fit(X_train,y_train)\n",
    "        \n",
    "    model2 = DecisionTreeClassifier(max_depth=6, random_state = rand_state).fit(X_train,y_train)\n",
    "    \n",
    "    model3 = RandomForestClassifier(n_estimators=250, max_depth=5,\\\n",
    "                                    random_state=rand_state, n_jobs=-1).fit(X_train,y_train)\n",
    "    \n",
    "    model4 = XGBClassifier(max_depth=5, n_estimators= 50, n_jobs=-1).fit(X_train,y_train)\n",
    "    \n",
    "    return model1, model2, model3, model4, X_train, X_test, y_train, y_test"
   ]
  },
  {
   "cell_type": "code",
   "execution_count": 24,
   "metadata": {},
   "outputs": [],
   "source": [
    "def performance(y_tn, y_pred_tn, y_ts, y_pred_ts):\n",
    "\n",
    "    print('----------------------------------------------------------')\n",
    "    \n",
    "    print('Training accuracy :', accuracy_score(y_tn, y_pred_tn))\n",
    "    print('Test accuracy :', accuracy_score(y_ts, y_pred_ts))\n",
    "    \n",
    "    print('----------------------------------------------------------')\n",
    "    \n",
    "    print('Training accuracy :')\n",
    "    print( classification_report(y_tn, y_pred_tn) )\n",
    "    print('\\n')\n",
    "    print('Test accuracy :')\n",
    "    print( classification_report(y_ts, y_pred_ts) ) \n",
    "    \n",
    "    print('----------------------------------------------------------')\n",
    "    \n",
    "    print('Training ROC-AUC :', roc_auc_score(y_tn, y_pred_tn))\n",
    "    print('\\n')\n",
    "    print('Test ROC-AUC :', roc_auc_score(y_ts, y_pred_ts))\n",
    "    \n",
    "    print('----------------------------------------------------------')"
   ]
  },
  {
   "cell_type": "code",
   "execution_count": 25,
   "metadata": {},
   "outputs": [],
   "source": [
    "LR, DT, RD, XG, X_train, X_test, y_train, y_test = model_built(X, y, 0.25, 'LR')"
   ]
  },
  {
   "cell_type": "code",
   "execution_count": 26,
   "metadata": {
    "scrolled": true
   },
   "outputs": [
    {
     "name": "stdout",
     "output_type": "stream",
     "text": [
      "----------------------------------------------------------\n",
      "Training accuracy : 0.999190093864844\n",
      "Test accuracy : 0.9989607033510295\n",
      "----------------------------------------------------------\n",
      "Training accuracy :\n",
      "              precision    recall  f1-score   support\n",
      "\n",
      "           0       1.00      1.00      1.00    213260\n",
      "           1       0.88      0.58      0.70       345\n",
      "\n",
      "    accuracy                           1.00    213605\n",
      "   macro avg       0.94      0.79      0.85    213605\n",
      "weighted avg       1.00      1.00      1.00    213605\n",
      "\n",
      "\n",
      "\n",
      "Test accuracy :\n",
      "              precision    recall  f1-score   support\n",
      "\n",
      "           0       1.00      1.00      1.00     71055\n",
      "           1       0.87      0.59      0.70       147\n",
      "\n",
      "    accuracy                           1.00     71202\n",
      "   macro avg       0.93      0.79      0.85     71202\n",
      "weighted avg       1.00      1.00      1.00     71202\n",
      "\n",
      "----------------------------------------------------------\n",
      "Training ROC-AUC : 0.7883424940910394\n",
      "\n",
      "\n",
      "Test ROC-AUC : 0.7924255283705206\n",
      "----------------------------------------------------------\n"
     ]
    }
   ],
   "source": [
    "y_lr_train = LR.predict(X_train)\n",
    "\n",
    "y_lr_test = LR.predict(X_test)\n",
    "\n",
    "performance(y_train, y_lr_train, y_test, y_lr_test)"
   ]
  },
  {
   "cell_type": "code",
   "execution_count": 27,
   "metadata": {
    "scrolled": true
   },
   "outputs": [
    {
     "name": "stdout",
     "output_type": "stream",
     "text": [
      "----------------------------------------------------------\n",
      "Training accuracy : 0.9996957000070223\n",
      "Test accuracy : 0.9993539507317211\n",
      "----------------------------------------------------------\n",
      "Training accuracy :\n",
      "              precision    recall  f1-score   support\n",
      "\n",
      "           0       1.00      1.00      1.00    213260\n",
      "           1       0.98      0.83      0.90       345\n",
      "\n",
      "    accuracy                           1.00    213605\n",
      "   macro avg       0.99      0.91      0.95    213605\n",
      "weighted avg       1.00      1.00      1.00    213605\n",
      "\n",
      "\n",
      "\n",
      "Test accuracy :\n",
      "              precision    recall  f1-score   support\n",
      "\n",
      "           0       1.00      1.00      1.00     71055\n",
      "           1       0.88      0.80      0.84       147\n",
      "\n",
      "    accuracy                           1.00     71202\n",
      "   macro avg       0.94      0.90      0.92     71202\n",
      "weighted avg       1.00      1.00      1.00     71202\n",
      "\n",
      "----------------------------------------------------------\n",
      "Training ROC-AUC : 0.9144786862875418\n",
      "\n",
      "\n",
      "Test ROC-AUC : 0.8978465948338381\n",
      "----------------------------------------------------------\n"
     ]
    }
   ],
   "source": [
    "y_dt_train = DT.predict(X_train)\n",
    "\n",
    "y_dt_test = DT.predict(X_test)\n",
    "\n",
    "performance(y_train, y_dt_train, y_test, y_dt_test)"
   ]
  },
  {
   "cell_type": "code",
   "execution_count": 28,
   "metadata": {
    "scrolled": true
   },
   "outputs": [
    {
     "name": "stdout",
     "output_type": "stream",
     "text": [
      "----------------------------------------------------------\n",
      "Training accuracy : 0.9995552538564172\n",
      "Test accuracy : 0.9993258616331002\n",
      "----------------------------------------------------------\n",
      "Training accuracy :\n",
      "              precision    recall  f1-score   support\n",
      "\n",
      "           0       1.00      1.00      1.00    213260\n",
      "           1       0.96      0.75      0.85       345\n",
      "\n",
      "    accuracy                           1.00    213605\n",
      "   macro avg       0.98      0.88      0.92    213605\n",
      "weighted avg       1.00      1.00      1.00    213605\n",
      "\n",
      "\n",
      "\n",
      "Test accuracy :\n",
      "              precision    recall  f1-score   support\n",
      "\n",
      "           0       1.00      1.00      1.00     71055\n",
      "           1       0.95      0.71      0.81       147\n",
      "\n",
      "    accuracy                           1.00     71202\n",
      "   macro avg       0.97      0.86      0.91     71202\n",
      "weighted avg       1.00      1.00      1.00     71202\n",
      "\n",
      "----------------------------------------------------------\n",
      "Training ROC-AUC : 0.8767881486434875\n",
      "\n",
      "\n",
      "Test ROC-AUC : 0.8571006363279955\n",
      "----------------------------------------------------------\n"
     ]
    }
   ],
   "source": [
    "y_rf_train = RD.predict(X_train)\n",
    "\n",
    "y_rf_test = RD.predict(X_test)\n",
    "\n",
    "performance(y_train, y_rf_train, y_test, y_rf_test)"
   ]
  },
  {
   "cell_type": "code",
   "execution_count": 29,
   "metadata": {
    "scrolled": true
   },
   "outputs": [
    {
     "name": "stdout",
     "output_type": "stream",
     "text": [
      "----------------------------------------------------------\n",
      "Training accuracy : 0.9997331523138503\n",
      "Test accuracy : 0.9994663071262043\n",
      "----------------------------------------------------------\n",
      "Training accuracy :\n",
      "              precision    recall  f1-score   support\n",
      "\n",
      "           0       1.00      1.00      1.00    213260\n",
      "           1       0.99      0.84      0.91       345\n",
      "\n",
      "    accuracy                           1.00    213605\n",
      "   macro avg       1.00      0.92      0.96    213605\n",
      "weighted avg       1.00      1.00      1.00    213605\n",
      "\n",
      "\n",
      "\n",
      "Test accuracy :\n",
      "              precision    recall  f1-score   support\n",
      "\n",
      "           0       1.00      1.00      1.00     71055\n",
      "           1       0.94      0.79      0.86       147\n",
      "\n",
      "    accuracy                           1.00     71202\n",
      "   macro avg       0.97      0.89      0.93     71202\n",
      "weighted avg       1.00      1.00      1.00     71202\n",
      "\n",
      "----------------------------------------------------------\n",
      "Training ROC-AUC : 0.9202851659605815\n",
      "\n",
      "\n",
      "Test ROC-AUC : 0.8945085655119129\n",
      "----------------------------------------------------------\n"
     ]
    }
   ],
   "source": [
    "y_xg_train = XG.predict(X_train)\n",
    "\n",
    "y_xg_test = XG.predict(X_test)\n",
    "\n",
    "performance(y_train, y_xg_train, y_test, y_xg_test)"
   ]
  },
  {
   "cell_type": "markdown",
   "metadata": {},
   "source": [
    " "
   ]
  }
 ],
 "metadata": {
  "kernelspec": {
   "display_name": "Python 3",
   "language": "python",
   "name": "python3"
  },
  "language_info": {
   "codemirror_mode": {
    "name": "ipython",
    "version": 3
   },
   "file_extension": ".py",
   "mimetype": "text/x-python",
   "name": "python",
   "nbconvert_exporter": "python",
   "pygments_lexer": "ipython3",
   "version": "3.7.4"
  }
 },
 "nbformat": 4,
 "nbformat_minor": 2
}
